{
  "cells": [
    {
      "cell_type": "markdown",
      "metadata": {
        "id": "view-in-github",
        "colab_type": "text"
      },
      "source": [
        "<a href=\"https://colab.research.google.com/github/AlexeyKovri/Python---Data-Analysis-in-Marketing/blob/main/LongestSubstrWRC.ipynb\" target=\"_parent\"><img src=\"https://colab.research.google.com/assets/colab-badge.svg\" alt=\"Open In Colab\"/></a>"
      ]
    },
    {
      "cell_type": "markdown",
      "source": [
        "https://leetcode.com/problems/longest-substring-without-repeating-characters/description/\n",
        "\n",
        "Given a string s, find the length of the longest\n",
        "substring\n",
        " without repeating characters.\n",
        "\n",
        "\n",
        "\n",
        "Example 1:\n",
        "\n",
        "Input: s = \"abcabcbb\"\n",
        "\n",
        "Output: 3\n",
        "\n",
        "Explanation: The answer is \"abc\", with the length of 3.\n",
        "\n",
        "Example 2:\n",
        "\n",
        "Input: s = \"bbbbb\"\n",
        "\n",
        "Output: 1\n",
        "\n",
        "Explanation: The answer is \"b\", with the length of 1.\n",
        "\n",
        "Example 3:\n",
        "\n",
        "Input: s = \"pwwkew\"\n",
        "\n",
        "Output: 3\n",
        "\n",
        "Explanation: The answer is \"wke\", with the length of 3.\n",
        "\n",
        "Notice that the answer must be a substring, \"pwke\" is a subsequence and not a substring.\n",
        "\n",
        "\n",
        "Constraints:\n",
        "\n",
        "0 <= s.length <= 5 * 104\n",
        "\n",
        "s consists of English letters, digits, symbols and spaces."
      ],
      "metadata": {
        "id": "BJHmksC74UwO"
      }
    },
    {
      "cell_type": "code",
      "execution_count": null,
      "metadata": {
        "id": "4FwN3ulH3yJC"
      },
      "outputs": [],
      "source": [
        "class Solution:\n",
        "\n",
        "    def lengthOfLongestSubstring(self, s: str) -> int:\n",
        "        max_len = 0\n",
        "        substr = []\n",
        "        for i in s:\n",
        "            if i in substr:\n",
        "                substr = substr[substr.index(i) + 1:]\n",
        "            substr.append(i)\n",
        "            current_len = len(substr)\n",
        "            if current_len > max_len:\n",
        "                max_len = current_len\n",
        "        return max_len\n"
      ]
    }
  ],
  "metadata": {
    "colab": {
      "provenance": [],
      "include_colab_link": true
    },
    "kernelspec": {
      "display_name": "Python 3",
      "name": "python3"
    },
    "language_info": {
      "name": "python"
    }
  },
  "nbformat": 4,
  "nbformat_minor": 0
}